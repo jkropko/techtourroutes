{
 "cells": [
  {
   "cell_type": "code",
   "execution_count": 1,
   "id": "9e17399a-0328-413a-8b3e-aaec7f3b57a2",
   "metadata": {},
   "outputs": [],
   "source": [
    "import pandas as pd\n",
    "import numpy as np\n",
    "import requests\n",
    "import json"
   ]
  },
  {
   "cell_type": "markdown",
   "id": "45af1902-301b-4f96-83c6-c7b150a75805",
   "metadata": {},
   "source": [
    "## Bring latest Google sheet and form data into this environment"
   ]
  },
  {
   "cell_type": "code",
   "execution_count": null,
   "id": "4e53b32f-5089-49f8-94a4-d95cc4dcfcf9",
   "metadata": {},
   "outputs": [],
   "source": []
  }
 ],
 "metadata": {
  "kernelspec": {
   "display_name": "Python 3 (ipykernel)",
   "language": "python",
   "name": "python3"
  },
  "language_info": {
   "codemirror_mode": {
    "name": "ipython",
    "version": 3
   },
   "file_extension": ".py",
   "mimetype": "text/x-python",
   "name": "python",
   "nbconvert_exporter": "python",
   "pygments_lexer": "ipython3",
   "version": "3.10.6"
  }
 },
 "nbformat": 4,
 "nbformat_minor": 5
}
